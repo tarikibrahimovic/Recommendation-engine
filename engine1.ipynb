{
 "cells": [
  {
   "cell_type": "code",
   "execution_count": 7,
   "metadata": {},
   "outputs": [
    {
     "name": "stdout",
     "output_type": "stream",
     "text": [
      "   id          name   brand    category  \\\n",
      "0   1   Air Max 270    Nike   Lifestyle   \n",
      "1   2  Air Jordan 1    Nike  Basketball   \n",
      "2   3   Ultra Boost  Adidas     Running   \n",
      "3   4    Stan Smith  Adidas   Lifestyle   \n",
      "4   5          RS-X    Puma   Lifestyle   \n",
      "\n",
      "                                         description color  price  \n",
      "0  Air Max model idealan za svaki dan. Udoban i m...  Crna    120  \n",
      "1  Čuvena Jordan serija. Retro izgled i vrhunske ...  Bela    150  \n",
      "2  Maksimalna udobnost prilikom trčanja i svakodn...  Siva    130  \n",
      "3  Klasični minimalizam uz kožni gornji deo i udo...  Bela     90  \n",
      "4  Retro-futuristički dizajn, kombinacija više ma...  Crna    100  \n"
     ]
    }
   ],
   "source": [
    "import pandas as pd\n",
    "\n",
    "# Učitajmo podatke iz CSV fajla\n",
    "df = pd.read_csv('shoes.csv')\n",
    "\n",
    "# Opcioni pregled (prvih nekoliko redova)\n",
    "print(df.head())\n"
   ]
  },
  {
   "cell_type": "code",
   "execution_count": 8,
   "metadata": {},
   "outputs": [
    {
     "name": "stdout",
     "output_type": "stream",
     "text": [
      "0    Nike Lifestyle Air Max model idealan za svaki ...\n",
      "1    Nike Basketball Čuvena Jordan serija. Retro iz...\n",
      "2    Adidas Running Maksimalna udobnost prilikom tr...\n",
      "3    Adidas Lifestyle Klasični minimalizam uz kožni...\n",
      "4    Puma Lifestyle Retro-futuristički dizajn, komb...\n",
      "5    Puma Lifestyle Legendarni model, prepoznatljiv...\n",
      "Name: features, dtype: object\n"
     ]
    }
   ],
   "source": [
    "def price_category(price):\n",
    "    if price < 100:\n",
    "        return \"cheap\"\n",
    "    elif price <= 130:\n",
    "        return \"moderate\"\n",
    "    else:\n",
    "        return \"expensive\"\n",
    "\n",
    "# Spajanje feature-a u jedan\n",
    "def combine_features(row):\n",
    "    price_cat = price_category(row['price'])\n",
    "    return f\"{row['brand']} {row['category']} {row['description']} {row['color']} {price_cat}\"\n",
    "\n",
    "df['features'] = df.apply(combine_features, axis=1)\n",
    "print(df['features'])\n"
   ]
  },
  {
   "cell_type": "code",
   "execution_count": 9,
   "metadata": {},
   "outputs": [],
   "source": [
    "from sklearn.feature_extraction.text import TfidfVectorizer\n",
    "from sklearn.metrics.pairwise import linear_kernel\n",
    "\n",
    "# 1. Kreiramo kolonu 'features'\n",
    "df['features'] = df.apply(combine_features, axis=1)\n",
    "\n",
    "# 2. Ponovo učimo TF-IDF\n",
    "tfidf = TfidfVectorizer(\n",
    "    stop_words=['srpski', 'hrvatski', 'bosanski', 'i', 'u', 'za', 'po', 'od', 'je', 'na', 'iz', 'koji', 'koja', 'koje']\n",
    "    # ili npr. stop_words='english' ako su vam opisi na engleskom\n",
    ")\n",
    "tfidf_matrix = tfidf.fit_transform(df['features'])\n",
    "\n",
    "# 3. Računamo sličnost\n",
    "cosine_sim = linear_kernel(tfidf_matrix, tfidf_matrix)\n"
   ]
  },
  {
   "cell_type": "code",
   "execution_count": 10,
   "metadata": {},
   "outputs": [
    {
     "name": "stdout",
     "output_type": "stream",
     "text": [
      "(6, 6)\n"
     ]
    }
   ],
   "source": [
    "from sklearn.metrics.pairwise import linear_kernel\n",
    "\n",
    "# Računamo kosinusnu sličnost\n",
    "cosine_sim = linear_kernel(tfidf_matrix, tfidf_matrix)\n",
    "\n",
    "# Pogledajmo dimenzije\n",
    "print(cosine_sim.shape)\n"
   ]
  },
  {
   "cell_type": "code",
   "execution_count": 11,
   "metadata": {},
   "outputs": [],
   "source": [
    "def recommend_shoes(item_id, df, cosine_sim, top_n=5):\n",
    "    # Pronalaženje indeksa traženog artikla\n",
    "    item_index = df.index[df['id'] == item_id].tolist()[0]\n",
    "    \n",
    "    # Sličnosti za dati artikal\n",
    "    similarity_scores = list(enumerate(cosine_sim[item_index]))\n",
    "    \n",
    "    # Sortiramo po sličnosti\n",
    "    similarity_scores = sorted(similarity_scores, key=lambda x: x[1], reverse=True)\n",
    "    \n",
    "    # Uzimamo top_n sličnih artikala (preskačemo prvi, jer je to sam artikal)\n",
    "    top_similar = similarity_scores[1:top_n+1]\n",
    "    \n",
    "    recommended_ids = [df.iloc[i[0]]['id'] for i in top_similar]\n",
    "    recommended_names = [df.iloc[i[0]]['name'] for i in top_similar]\n",
    "    \n",
    "    # Formatiramo povratnu vrednost\n",
    "    recommendations = list(zip(recommended_ids, recommended_names))\n",
    "    return recommendations\n"
   ]
  },
  {
   "cell_type": "code",
   "execution_count": 12,
   "metadata": {},
   "outputs": [
    {
     "name": "stdout",
     "output_type": "stream",
     "text": [
      "Preporuke za artikal sa ID 1:\n",
      "ID: 5, Naziv: RS-X\n",
      "ID: 6, Naziv: Suede Classic\n",
      "ID: 4, Naziv: Stan Smith\n"
     ]
    }
   ],
   "source": [
    "test_id = 1\n",
    "recommended = recommend_shoes(test_id, df, cosine_sim, top_n=3)\n",
    "\n",
    "print(f\"Preporuke za artikal sa ID {test_id}:\")\n",
    "for r_id, r_name in recommended:\n",
    "    print(f\"ID: {r_id}, Naziv: {r_name}\")\n"
   ]
  }
 ],
 "metadata": {
  "kernelspec": {
   "display_name": ".venv",
   "language": "python",
   "name": "python3"
  },
  "language_info": {
   "codemirror_mode": {
    "name": "ipython",
    "version": 3
   },
   "file_extension": ".py",
   "mimetype": "text/x-python",
   "name": "python",
   "nbconvert_exporter": "python",
   "pygments_lexer": "ipython3",
   "version": "3.10.8"
  }
 },
 "nbformat": 4,
 "nbformat_minor": 2
}
